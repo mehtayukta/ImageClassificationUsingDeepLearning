{
  "nbformat": 4,
  "nbformat_minor": 0,
  "metadata": {
    "colab": {
      "provenance": []
    },
    "kernelspec": {
      "name": "python3",
      "display_name": "Python 3"
    },
    "language_info": {
      "name": "python"
    }
  },
  "cells": [
    {
      "cell_type": "markdown",
      "source": [
        "### Step 2. In a new .ipynb notebook, reproduce the results utilizing the \"QMNIST\" dataset\n",
        "\n"
      ],
      "metadata": {
        "id": "23gF8DXHirBi"
      }
    },
    {
      "cell_type": "markdown",
      "source": [
        "#####Using Pytorch"
      ],
      "metadata": {
        "id": "Isgsdl-Qi7Dy"
      }
    },
    {
      "cell_type": "code",
      "execution_count": 1,
      "metadata": {
        "id": "hpioDyDHiaWo"
      },
      "outputs": [],
      "source": [
        "import torch\n",
        "import torch.nn as nn\n",
        "import torch.optim as optim\n",
        "import torchvision\n",
        "import torchvision.transforms as transforms\n",
        "from torch.utils.data import DataLoader\n",
        "import matplotlib.pyplot as plt"
      ]
    },
    {
      "cell_type": "code",
      "source": [
        "# Load Fashion MNIST dataset and preprocess\n",
        "transform = transforms.Compose([transforms.ToTensor(), transforms.Normalize((0.5,), (0.5,))])\n",
        "train_dataset = torchvision.datasets.QMNIST(root='./data', train=True, download=True, transform=transform)\n",
        "test_dataset = torchvision.datasets.QMNIST(root='./data', train=False, download=True, transform=transform)\n",
        "\n",
        "# Create data loaders\n",
        "train_loader = DataLoader(train_dataset, batch_size=64, shuffle=True)\n",
        "test_loader = DataLoader(test_dataset, batch_size=64, shuffle=False)"
      ],
      "metadata": {
        "id": "CqnVV76kjBpj"
      },
      "execution_count": 2,
      "outputs": []
    },
    {
      "cell_type": "code",
      "source": [
        "test_dataset"
      ],
      "metadata": {
        "colab": {
          "base_uri": "https://localhost:8080/"
        },
        "id": "7yN2flKol3aq",
        "outputId": "4d63d73f-2eb7-4966-912f-462430435f09"
      },
      "execution_count": 3,
      "outputs": [
        {
          "output_type": "execute_result",
          "data": {
            "text/plain": [
              "Dataset QMNIST\n",
              "    Number of datapoints: 60000\n",
              "    Root location: ./data\n",
              "    Split: test\n",
              "    StandardTransform\n",
              "Transform: Compose(\n",
              "               ToTensor()\n",
              "               Normalize(mean=(0.5,), std=(0.5,))\n",
              "           )"
            ]
          },
          "metadata": {},
          "execution_count": 3
        }
      ]
    },
    {
      "cell_type": "code",
      "source": [
        "print(\"Length of Training dataset: \", len(train_dataset))\n",
        "print(\"Length of Test dataset: \", len(test_dataset))\n"
      ],
      "metadata": {
        "colab": {
          "base_uri": "https://localhost:8080/"
        },
        "id": "A9SwIRAvjSTK",
        "outputId": "449889c2-9399-439f-e383-08312085d3eb"
      },
      "execution_count": 4,
      "outputs": [
        {
          "output_type": "stream",
          "name": "stdout",
          "text": [
            "Length of Training dataset:  60000\n",
            "Length of Test dataset:  60000\n"
          ]
        }
      ]
    },
    {
      "cell_type": "code",
      "source": [
        "classes_list = train_dataset.classes\n",
        "\n",
        "# Print all the classes\n",
        "print(\"Classes in the QMNIST dataset:\")\n",
        "for i, class_name in enumerate(classes_list):\n",
        "    print(f\"Class {i}: {class_name}\")\n",
        "\n",
        "num_classes = len(train_dataset.classes)\n",
        "num_classes"
      ],
      "metadata": {
        "colab": {
          "base_uri": "https://localhost:8080/"
        },
        "id": "EmF5uDMTjXYC",
        "outputId": "fd135fad-165c-45f8-f732-7d1ad76a1777"
      },
      "execution_count": 5,
      "outputs": [
        {
          "output_type": "stream",
          "name": "stdout",
          "text": [
            "Classes in the QMNIST dataset:\n",
            "Class 0: 0 - zero\n",
            "Class 1: 1 - one\n",
            "Class 2: 2 - two\n",
            "Class 3: 3 - three\n",
            "Class 4: 4 - four\n",
            "Class 5: 5 - five\n",
            "Class 6: 6 - six\n",
            "Class 7: 7 - seven\n",
            "Class 8: 8 - eight\n",
            "Class 9: 9 - nine\n"
          ]
        },
        {
          "output_type": "execute_result",
          "data": {
            "text/plain": [
              "10"
            ]
          },
          "metadata": {},
          "execution_count": 5
        }
      ]
    },
    {
      "cell_type": "code",
      "source": [
        "labels_map = {\n",
        "    0: \"zero\",\n",
        "    1: \"one\",\n",
        "    2: \"two\",\n",
        "    3: \"three\",\n",
        "    4: \"four\",\n",
        "    5: \"five\",\n",
        "    6: \"six\",\n",
        "    7: \"seven\",\n",
        "    8: \"eight\",\n",
        "    9: \"nine\",\n",
        "}\n",
        "figure = plt.figure(figsize=(6, 8))\n",
        "cols, rows = 3, 3\n",
        "for i in range(1, cols * rows + 1):\n",
        "    sample_idx = torch.randint(len(train_dataset), size=(1,)).item()\n",
        "    img, label = train_dataset[sample_idx]\n",
        "    figure.add_subplot(rows, cols, i)\n",
        "    plt.title(labels_map[label])\n",
        "    plt.axis(\"off\")\n",
        "    plt.imshow(img.squeeze(), cmap=\"gray\")\n",
        "plt.show()"
      ],
      "metadata": {
        "colab": {
          "base_uri": "https://localhost:8080/",
          "height": 630
        },
        "id": "NPauuF2CjdoV",
        "outputId": "8c767a95-16ef-45c7-c0d4-c48981c3c70a"
      },
      "execution_count": 6,
      "outputs": [
        {
          "output_type": "display_data",
          "data": {
            "text/plain": [
              "<Figure size 600x800 with 9 Axes>"
            ],
            "image/png": "[encoded data removed]"
          },
          "metadata": {}
        }
      ]
    },
    {
      "cell_type": "code",
      "source": [
        "#Test DataSet\n",
        "figure = plt.figure(figsize=(8, 8))\n",
        "cols, rows = 3, 3\n",
        "for i in range(1, cols * rows + 1):\n",
        "    sample_idx = torch.randint(len(test_dataset), size=(1,)).item()\n",
        "    img, label = test_dataset[sample_idx]\n",
        "    figure.add_subplot(rows, cols, i)\n",
        "    plt.title(labels_map[label])\n",
        "    plt.axis(\"off\")\n",
        "    plt.imshow(img.squeeze(), cmap=\"gray\")\n",
        "plt.show()"
      ],
      "metadata": {
        "colab": {
          "base_uri": "https://localhost:8080/",
          "height": 675
        },
        "id": "1Pemny3Sjqwr",
        "outputId": "daba4bd8-0cdf-44e6-cb55-00008ab81d2d"
      },
      "execution_count": 7,
      "outputs": [
        {
          "output_type": "display_data",
          "data": {
            "text/plain": [
              "<Figure size 800x800 with 9 Axes>"
            ],
            "image/png": "[encoded data removed]"
          },
          "metadata": {}
        }
      ]
    },
    {
      "cell_type": "code",
      "source": [
        "#Define the neural network architecture\n",
        "class MLP(nn.Module):\n",
        "    def __init__(self):\n",
        "        super(MLP, self).__init__()\n",
        "        self.fc1 = nn.Linear(28 * 28, 128)\n",
        "        self.fc2 = nn.Linear(128, 64)\n",
        "        self.fc3 = nn.Linear(64, 10)\n",
        "\n",
        "    def forward(self, x):\n",
        "        x = x.view(-1, 28 * 28)\n",
        "        x = torch.relu(self.fc1(x))\n",
        "        x = torch.relu(self.fc2(x))\n",
        "        x = self.fc3(x)\n",
        "        return x\n",
        "\n",
        "# Initialize the neural network\n",
        "model = MLP()\n",
        "\n",
        "# Define the loss function and optimizer\n",
        "criterion = nn.CrossEntropyLoss()\n",
        "optimizer = optim.Adam(model.parameters(), lr=0.001)\n",
        "\n",
        "# Train the neural network\n",
        "num_epochs = 5\n",
        "for epoch in range(num_epochs):\n",
        "    model.train()\n",
        "    running_loss = 0.0\n",
        "    correct = 0\n",
        "    total = 0\n",
        "    for i, data in enumerate(train_loader, 0):\n",
        "        inputs, labels = data\n",
        "        optimizer.zero_grad()\n",
        "        outputs = model(inputs)\n",
        "        loss = criterion(outputs, labels)\n",
        "        loss.backward()\n",
        "        optimizer.step()\n",
        "        running_loss += loss.item()\n",
        "        _, predicted = torch.max(outputs.data, 1)\n",
        "        total += labels.size(0)\n",
        "        correct += (predicted == labels).sum().item()\n",
        "\n",
        "        if i % 100 == 99:  # print every 100 mini-batches\n",
        "            print(f'Epoch {epoch + 1}, Batch {i + 1}, Loss: {running_loss / 100}, Accuracy: {(correct / total) * 100}%')\n",
        "            running_loss = 0.0\n",
        "            #correct = 0\n",
        "            #total = 0\n",
        "\n",
        "print('Finished Training')\n",
        "\n",
        "# Evaluate the model\n",
        "model.eval()\n",
        "correct = 0\n",
        "total = 0\n",
        "with torch.no_grad():\n",
        "    for data in test_loader:\n",
        "        images, labels = data\n",
        "        outputs = model(images)\n",
        "        _, predicted = torch.max(outputs.data, 1)\n",
        "        total += labels.size(0)\n",
        "        correct += (predicted == labels).sum().item()\n",
        "\n",
        "print(f'Accuracy on test set: { correct / total}')\n",
        "\n",
        "# Evaluate the model and store predictions\n",
        "model.eval()\n",
        "predictions = []\n",
        "correct = 0\n",
        "total = 0\n",
        "with torch.no_grad():\n",
        "    for data in test_loader:\n",
        "        images, labels = data\n",
        "        outputs = model(images)\n",
        "        _, predicted = torch.max(outputs.data, 1)\n",
        "        predictions.extend(predicted.numpy())  # Store predictions\n",
        "        total += labels.size(0)\n",
        "        correct += (predicted == labels).sum().item()\n",
        "\n"
      ],
      "metadata": {
        "colab": {
          "base_uri": "https://localhost:8080/"
        },
        "id": "Koz88XdFj4xS",
        "outputId": "3c77582a-fb52-4ab7-9185-5ec583e43ea6"
      },
      "execution_count": 8,
      "outputs": [
        {
          "output_type": "stream",
          "name": "stdout",
          "text": [
            "Epoch 1, Batch 100, Loss: 0.9949914893507957, Accuracy: 71.578125%\n",
            "Epoch 1, Batch 200, Loss: 0.4276351483166218, Accuracy: 79.3984375%\n",
            "Epoch 1, Batch 300, Loss: 0.37379729077219964, Accuracy: 82.49479166666667%\n",
            "Epoch 1, Batch 400, Loss: 0.3554255084693432, Accuracy: 84.1796875%\n",
            "Epoch 1, Batch 500, Loss: 0.3189141443371773, Accuracy: 85.465625%\n",
            "Epoch 1, Batch 600, Loss: 0.29965013548731806, Accuracy: 86.3984375%\n",
            "Epoch 1, Batch 700, Loss: 0.2731248170882463, Accuracy: 87.20535714285714%\n",
            "Epoch 1, Batch 800, Loss: 0.2762065387517214, Accuracy: 87.802734375%\n",
            "Epoch 1, Batch 900, Loss: 0.2507718665897846, Accuracy: 88.34548611111111%\n",
            "Epoch 2, Batch 100, Loss: 0.21721127383410932, Accuracy: 93.703125%\n",
            "Epoch 2, Batch 200, Loss: 0.21762129679322242, Accuracy: 93.5546875%\n",
            "Epoch 2, Batch 300, Loss: 0.21418951533734798, Accuracy: 93.63020833333333%\n",
            "Epoch 2, Batch 400, Loss: 0.21242687202990054, Accuracy: 93.6328125%\n",
            "Epoch 2, Batch 500, Loss: 0.18730490952730178, Accuracy: 93.7875%\n",
            "Epoch 2, Batch 600, Loss: 0.1793463029153645, Accuracy: 93.8828125%\n",
            "Epoch 2, Batch 700, Loss: 0.16737226581200956, Accuracy: 94.04017857142857%\n",
            "Epoch 2, Batch 800, Loss: 0.16828596647828817, Accuracy: 94.158203125%\n",
            "Epoch 2, Batch 900, Loss: 0.16758783359080553, Accuracy: 94.27083333333334%\n",
            "Epoch 3, Batch 100, Loss: 0.1506814642995596, Accuracy: 95.40625%\n",
            "Epoch 3, Batch 200, Loss: 0.1470818328857422, Accuracy: 95.4375%\n",
            "Epoch 3, Batch 300, Loss: 0.1424024123325944, Accuracy: 95.57291666666666%\n",
            "Epoch 3, Batch 400, Loss: 0.15186540592461825, Accuracy: 95.53125%\n",
            "Epoch 3, Batch 500, Loss: 0.1498399507254362, Accuracy: 95.5375%\n",
            "Epoch 3, Batch 600, Loss: 0.13621052669361233, Accuracy: 95.55208333333334%\n",
            "Epoch 3, Batch 700, Loss: 0.12903439722955226, Accuracy: 95.59598214285714%\n",
            "Epoch 3, Batch 800, Loss: 0.12919737714342772, Accuracy: 95.634765625%\n",
            "Epoch 3, Batch 900, Loss: 0.1417809710651636, Accuracy: 95.61631944444444%\n",
            "Epoch 4, Batch 100, Loss: 0.11309455299749971, Accuracy: 96.53125%\n",
            "Epoch 4, Batch 200, Loss: 0.10968404592946172, Accuracy: 96.4765625%\n",
            "Epoch 4, Batch 300, Loss: 0.13181924898177386, Accuracy: 96.29166666666666%\n",
            "Epoch 4, Batch 400, Loss: 0.11862731458619237, Accuracy: 96.2734375%\n",
            "Epoch 4, Batch 500, Loss: 0.10322599266655744, Accuracy: 96.359375%\n",
            "Epoch 4, Batch 600, Loss: 0.11256260314956307, Accuracy: 96.38020833333333%\n",
            "Epoch 4, Batch 700, Loss: 0.10608012549579143, Accuracy: 96.44642857142857%\n",
            "Epoch 4, Batch 800, Loss: 0.11422943003475666, Accuracy: 96.474609375%\n",
            "Epoch 4, Batch 900, Loss: 0.11409538076724857, Accuracy: 96.48784722222223%\n",
            "Epoch 5, Batch 100, Loss: 0.09061250910162925, Accuracy: 97.453125%\n",
            "Epoch 5, Batch 200, Loss: 0.0878804769832641, Accuracy: 97.3515625%\n",
            "Epoch 5, Batch 300, Loss: 0.09217335094697773, Accuracy: 97.28125%\n",
            "Epoch 5, Batch 400, Loss: 0.08983798707835376, Accuracy: 97.2890625%\n",
            "Epoch 5, Batch 500, Loss: 0.09703250341117382, Accuracy: 97.228125%\n",
            "Epoch 5, Batch 600, Loss: 0.09724757510237396, Accuracy: 97.171875%\n",
            "Epoch 5, Batch 700, Loss: 0.10799805645830929, Accuracy: 97.11160714285715%\n",
            "Epoch 5, Batch 800, Loss: 0.08493267613928765, Accuracy: 97.130859375%\n",
            "Epoch 5, Batch 900, Loss: 0.09940179444849491, Accuracy: 97.07986111111111%\n",
            "Finished Training\n",
            "Accuracy on test set: 0.9608666666666666\n"
          ]
        }
      ]
    },
    {
      "cell_type": "markdown",
      "source": [
        "### Step 3. Report on the results in terms of prediction accuracy on the train and test datasets\n",
        "\n"
      ],
      "metadata": {
        "id": "WQw_wtIEmbGE"
      }
    },
    {
      "cell_type": "markdown",
      "source": [
        "- As a result of using the QMNIST dataset, the training accuracy is 97.07% and the loss is 0.10 based on the training accuracy.\n",
        "\n",
        "- Testing accuracy with linear function and neural activation using 128 neurons is 96%, using linear function and neural activation"
      ],
      "metadata": {
        "id": "2XWouAKrf0Re"
      }
    },
    {
      "cell_type": "markdown",
      "source": [
        "### Step 4. Choose one of the proposed modifications below:\n",
        "\n",
        "- Add another Dense layer of 128 nodes\n",
        "- Increase the current number of nodes in the layer to 256\n",
        "\n",
        "Hypothesize how it would change the performance results\n",
        "\n",
        "\n",
        "### Step 5. Modify the model based on the chosen method and train\n",
        "\n"
      ],
      "metadata": {
        "id": "F01dTexxmo2i"
      }
    },
    {
      "cell_type": "markdown",
      "source": [
        "### Adding new layer\n",
        "Add another Dense layer of 128 nodes"
      ],
      "metadata": {
        "id": "nHMWKNujmufr"
      }
    },
    {
      "cell_type": "code",
      "source": [
        "#Define the neural network architecture\n",
        "class MLP(nn.Module):\n",
        "    def __init__(self):\n",
        "        super(MLP, self).__init__()\n",
        "        self.fc1 = nn.Linear(28 * 28, 128)\n",
        "        self.fc2 = nn.Linear(128, 128) # added extra layer\n",
        "        self.fc3 = nn.Linear(128, 64)\n",
        "        self.fc4 = nn.Linear(64, 10)\n",
        "\n",
        "    def forward(self, x):\n",
        "        x = x.view(-1, 28 * 28)\n",
        "        x = torch.relu(self.fc1(x))\n",
        "        x = torch.relu(self.fc2(x)) # added extra layer\n",
        "        x = torch.relu(self.fc3(x))\n",
        "        x = self.fc4(x)\n",
        "        return x\n",
        "\n",
        "# Initialize the neural network\n",
        "model = MLP()\n",
        "# Define the loss function and optimizer\n",
        "criterion = nn.CrossEntropyLoss()\n",
        "optimizer = optim.Adam(model.parameters(), lr=0.001)\n",
        "\n",
        "# Train the neural network\n",
        "num_epochs = 5\n",
        "for epoch in range(num_epochs):\n",
        "    model.train()\n",
        "    running_loss = 0.0\n",
        "    correct = 0\n",
        "    total = 0\n",
        "    for i, data in enumerate(train_loader, 0):\n",
        "        inputs, labels = data\n",
        "        optimizer.zero_grad()\n",
        "        outputs = model(inputs)\n",
        "        loss = criterion(outputs, labels)\n",
        "        loss.backward()\n",
        "        optimizer.step()\n",
        "        _, predicted = torch.max(outputs.data, 1)\n",
        "        running_loss += loss.item()\n",
        "        total += labels.size(0)\n",
        "        correct += (predicted == labels).sum().item()\n",
        "\n",
        "        if i % 100 == 99:  # print every 100 mini-batches\n",
        "            print(f'Epoch {epoch + 1}, Batch {i + 1}, Loss: {running_loss / 100}, Accuracy: {(correct / total) * 100}%')\n",
        "            running_loss = 0.0\n",
        "            #correct = 0\n",
        "            #total = 0\n",
        "\n",
        "print('Finished Training')\n",
        "\n",
        "# Evaluate the model\n",
        "model.eval()\n",
        "correct = 0\n",
        "total = 0\n",
        "with torch.no_grad():\n",
        "    for data in test_loader:\n",
        "        images, labels = data\n",
        "        outputs = model(images)\n",
        "        _, predicted = torch.max(outputs.data, 1)\n",
        "        total += labels.size(0)\n",
        "        correct += (predicted == labels).sum().item()\n",
        "\n",
        "print(f'Accuracy on test set: { correct / total}%')\n",
        "\n",
        "# Evaluate the model and store predictions\n",
        "model.eval()\n",
        "predictions = []\n",
        "correct = 0\n",
        "total = 0\n",
        "with torch.no_grad():\n",
        "    for data in test_loader:\n",
        "        images, labels = data\n",
        "        outputs = model(images)\n",
        "        _, predicted = torch.max(outputs.data, 1)\n",
        "        predictions.extend(predicted.numpy())  # Store predictions\n",
        "        total += labels.size(0)\n",
        "        correct += (predicted == labels).sum().item()\n",
        "\n",
        "# Get one test image and its label\n",
        "image, label = images[1], labels[1]\n",
        "\n",
        "# Reshape the image tensor to a 28x28 shape\n",
        "image = image.view(28, 28)\n",
        "\n",
        "# Convert the image tensor to a numpy array for visualization\n",
        "image_numpy = image.numpy()\n",
        "\n",
        "# Show the image\n",
        "plt.imshow(image_numpy, cmap='gray')\n",
        "plt.title(f'Predicted Label: {predictions[1]}, Actual Label: {label.item()}')\n",
        "plt.axis('off')\n",
        "plt.show()"
      ],
      "metadata": {
        "colab": {
          "base_uri": "https://localhost:8080/",
          "height": 1000
        },
        "id": "yLKFosr6mjjA",
        "outputId": "eead541d-9be9-4c8f-efc9-211a51e3ed01"
      },
      "execution_count": 9,
      "outputs": [
        {
          "output_type": "stream",
          "name": "stdout",
          "text": [
            "Epoch 1, Batch 100, Loss: 1.0851097109913825, Accuracy: 66.171875%\n",
            "Epoch 1, Batch 200, Loss: 0.4863400891423225, Accuracy: 75.390625%\n",
            "Epoch 1, Batch 300, Loss: 0.3743810993432999, Accuracy: 79.82291666666667%\n",
            "Epoch 1, Batch 400, Loss: 0.3200537845492363, Accuracy: 82.4765625%\n",
            "Epoch 1, Batch 500, Loss: 0.2788253467530012, Accuracy: 84.3%\n",
            "Epoch 1, Batch 600, Loss: 0.28871671557426454, Accuracy: 85.4296875%\n",
            "Epoch 1, Batch 700, Loss: 0.23890170246362685, Accuracy: 86.50892857142857%\n",
            "Epoch 1, Batch 800, Loss: 0.25601040966808797, Accuracy: 87.21484375%\n",
            "Epoch 1, Batch 900, Loss: 0.20819886080920696, Accuracy: 87.95138888888889%\n",
            "Epoch 2, Batch 100, Loss: 0.19668005488812923, Accuracy: 93.921875%\n",
            "Epoch 2, Batch 200, Loss: 0.17612084228545427, Accuracy: 94.2578125%\n",
            "Epoch 2, Batch 300, Loss: 0.18782300164923071, Accuracy: 94.35416666666666%\n",
            "Epoch 2, Batch 400, Loss: 0.18540366040542722, Accuracy: 94.29296875%\n",
            "Epoch 2, Batch 500, Loss: 0.17829485129565, Accuracy: 94.3%\n",
            "Epoch 2, Batch 600, Loss: 0.15421442361548543, Accuracy: 94.453125%\n",
            "Epoch 2, Batch 700, Loss: 0.141144347935915, Accuracy: 94.64732142857143%\n",
            "Epoch 2, Batch 800, Loss: 0.15100754329934715, Accuracy: 94.71484375%\n",
            "Epoch 2, Batch 900, Loss: 0.16403616167604923, Accuracy: 94.734375%\n",
            "Epoch 3, Batch 100, Loss: 0.13313856545835734, Accuracy: 96.28125%\n",
            "Epoch 3, Batch 200, Loss: 0.12556945925578475, Accuracy: 96.2421875%\n",
            "Epoch 3, Batch 300, Loss: 0.1378063811827451, Accuracy: 96.13020833333333%\n",
            "Epoch 3, Batch 400, Loss: 0.13377124577760696, Accuracy: 95.98046875%\n",
            "Epoch 3, Batch 500, Loss: 0.1309234763123095, Accuracy: 95.975%\n",
            "Epoch 3, Batch 600, Loss: 0.12349496558308601, Accuracy: 95.98697916666666%\n",
            "Epoch 3, Batch 700, Loss: 0.12846519718877972, Accuracy: 95.94419642857143%\n",
            "Epoch 3, Batch 800, Loss: 0.1151372048817575, Accuracy: 96.009765625%\n",
            "Epoch 3, Batch 900, Loss: 0.11560569541528821, Accuracy: 96.03645833333333%\n",
            "Epoch 4, Batch 100, Loss: 0.10515801832079888, Accuracy: 96.765625%\n",
            "Epoch 4, Batch 200, Loss: 0.11198020640294999, Accuracy: 96.6484375%\n",
            "Epoch 4, Batch 300, Loss: 0.10857613247353584, Accuracy: 96.59375%\n",
            "Epoch 4, Batch 400, Loss: 0.11718579107895494, Accuracy: 96.5625%\n",
            "Epoch 4, Batch 500, Loss: 0.12545916695147752, Accuracy: 96.478125%\n",
            "Epoch 4, Batch 600, Loss: 0.10132369583006948, Accuracy: 96.56510416666667%\n",
            "Epoch 4, Batch 700, Loss: 0.10072130649350583, Accuracy: 96.58928571428571%\n",
            "Epoch 4, Batch 800, Loss: 0.09061137524899095, Accuracy: 96.6328125%\n",
            "Epoch 4, Batch 900, Loss: 0.09854309137910605, Accuracy: 96.67013888888889%\n",
            "Epoch 5, Batch 100, Loss: 0.07747284077107906, Accuracy: 97.53125%\n",
            "Epoch 5, Batch 200, Loss: 0.10783974413760006, Accuracy: 97.03125%\n",
            "Epoch 5, Batch 300, Loss: 0.08663293067365885, Accuracy: 97.09895833333333%\n",
            "Epoch 5, Batch 400, Loss: 0.08230904825031757, Accuracy: 97.19921875%\n",
            "Epoch 5, Batch 500, Loss: 0.1086557355709374, Accuracy: 97.040625%\n",
            "Epoch 5, Batch 600, Loss: 0.09348489704541862, Accuracy: 97.0390625%\n",
            "Epoch 5, Batch 700, Loss: 0.08938982744701207, Accuracy: 97.06919642857143%\n",
            "Epoch 5, Batch 800, Loss: 0.0928801252041012, Accuracy: 97.06640625%\n",
            "Epoch 5, Batch 900, Loss: 0.0868355331942439, Accuracy: 97.08159722222223%\n",
            "Finished Training\n",
            "Accuracy on test set: 0.9615333333333334%\n"
          ]
        },
        {
          "output_type": "display_data",
          "data": {
            "text/plain": [
              "<Figure size 640x480 with 1 Axes>"
            ],
            "image/png": "[encoded data removed]"
          },
          "metadata": {}
        }
      ]
    },
    {
      "cell_type": "markdown",
      "source": [
        "### Step 6. Report on the results of the modified model and if it matches your hypothesis\n",
        "\n"
      ],
      "metadata": {
        "id": "4DL7RsJOphzy"
      }
    },
    {
      "cell_type": "markdown",
      "source": [
        "- After adding the extra layer on top of the existing layer, the result remains the same.\n",
        "\n"
      ],
      "metadata": {
        "id": "UEbeFnr-ifpx"
      }
    },
    {
      "cell_type": "markdown",
      "source": [
        "### Step 7. Experiment with different optimizers, loss functions, dropout, and activation functions, and observe the change in performance as you tune these hyperparameters."
      ],
      "metadata": {
        "id": "63yqcnU5pyuk"
      }
    },
    {
      "cell_type": "markdown",
      "source": [
        "## Experiment 1"
      ],
      "metadata": {
        "id": "S8nBDk9F5vsy"
      }
    },
    {
      "cell_type": "code",
      "source": [
        "#Define the neural network architecture\n",
        "class MLP(nn.Module):\n",
        "    def __init__(self):\n",
        "        super(MLP, self).__init__()\n",
        "        self.fc1 = nn.Linear(28 * 28, 256) # Changed dense layers to 256\n",
        "        self.fc2 = nn.Linear(256, 64)\n",
        "        self.fc3 = nn.Linear(64, 10)\n",
        "\n",
        "    def forward(self, x):\n",
        "        x = x.view(-1, 28 * 28)\n",
        "        x = torch.relu(self.fc1(x))\n",
        "        x = torch.relu(self.fc2(x))\n",
        "        x = self.fc3(x)\n",
        "        return x\n",
        "\n",
        "# Initialize the neural network\n",
        "model = MLP()\n",
        "# Define the loss function and optimizer\n",
        "criterion = nn.CrossEntropyLoss()\n",
        "optimizer = optim.Adam(model.parameters(), lr=0.001)\n",
        "\n",
        "# Train the neural network\n",
        "num_epochs = 5\n",
        "for epoch in range(num_epochs):\n",
        "\n",
        "    model.train()\n",
        "    running_loss = 0.0\n",
        "    correct = 0\n",
        "    total = 0\n",
        "    for i, data in enumerate(train_loader, 0):\n",
        "        inputs, labels = data\n",
        "        optimizer.zero_grad()\n",
        "        outputs = model(inputs)\n",
        "        loss = criterion(outputs, labels)\n",
        "        loss.backward()\n",
        "        optimizer.step()\n",
        "        _, predicted = torch.max(outputs.data, 1)\n",
        "        running_loss += loss.item()\n",
        "        total += labels.size(0)\n",
        "\n",
        "        correct += (predicted == labels).sum().item()\n",
        "\n",
        "        if i % 100 == 99:  # print every 100 mini-batches\n",
        "            print(f'Epoch {epoch + 1}, Batch {i + 1}, Loss: {running_loss / 100}, Accuracy: {(correct / total) * 100}%')\n",
        "            running_loss = 0.0\n",
        "            #correct = 0\n",
        "            #total = 0\n",
        "\n",
        "print('Finished Training')\n",
        "\n",
        "# Evaluate the model\n",
        "model.eval()\n",
        "correct = 0\n",
        "total = 0\n",
        "with torch.no_grad():\n",
        "    for data in test_loader:\n",
        "        images, labels = data\n",
        "        outputs = model(images)\n",
        "        _, predicted = torch.max(outputs.data, 1)\n",
        "        total += labels.size(0)\n",
        "        correct += (predicted == labels).sum().item()\n",
        "\n",
        "print(f'Accuracy on test set: { correct / total}%')\n",
        "\n",
        "# Evaluate the model and store predictions\n",
        "model.eval()\n",
        "predictions = []\n",
        "correct = 0\n",
        "total = 0\n",
        "with torch.no_grad():\n",
        "    for data in test_loader:\n",
        "        images, labels = data\n",
        "        outputs = model(images)\n",
        "        _, predicted = torch.max(outputs.data, 1)\n",
        "        predictions.extend(predicted.numpy())  # Store predictions\n",
        "        total += labels.size(0)\n",
        "        correct += (predicted == labels).sum().item()\n",
        "\n",
        "# Get one test image and its label\n",
        "image, label = images[1], labels[1]\n",
        "\n",
        "# Reshape the image tensor to a 28x28 shape\n",
        "image = image.view(28, 28)\n",
        "\n",
        "# Convert the image tensor to a numpy array for visualization\n",
        "image_numpy = image.numpy()\n",
        "\n",
        "# Show the image\n",
        "plt.imshow(image_numpy, cmap='gray')\n",
        "plt.title(f'Predicted Label: {predictions[1]}, Actual Label: {label.item()}')\n",
        "plt.axis('off')\n",
        "plt.show()\n",
        "\n",
        "# Get the first 5 images from the test set.  # modified Code and predicted\n",
        "images, labels = next(iter(test_loader))\n",
        "outputs = model(images)\n",
        "_, predicted = torch.max(outputs, 1)\n",
        "\n",
        "# Convert to numpy arrays\n",
        "images = images.numpy()\n",
        "labels = labels.numpy()\n",
        "predicted = predicted.numpy()\n",
        "\n",
        "# Plot the images along with their actual and predicted labels\n",
        "for i in range(5):\n",
        "    image = images[i].squeeze()\n",
        "    actual_label = labels[i]\n",
        "    predicted_label = predicted[i]\n",
        "\n",
        "    plt.imshow(image, cmap='gray')\n",
        "    plt.title(f'Actual: {actual_label}, Predicted: {predicted_label}')\n",
        "    plt.axis('off')\n",
        "    plt.show()"
      ],
      "metadata": {
        "id": "vq_cupvepyF_",
        "colab": {
          "base_uri": "https://localhost:8080/",
          "height": 1000
        },
        "outputId": "ff586bef-8d73-4d44-f6b6-3e52d9ee6da5"
      },
      "execution_count": 13,
      "outputs": [
        {
          "output_type": "stream",
          "name": "stdout",
          "text": [
            "Epoch 1, Batch 100, Loss: 0.9238064688444138, Accuracy: 72.828125%\n",
            "Epoch 1, Batch 200, Loss: 0.4201179736852646, Accuracy: 79.9375%\n",
            "Epoch 1, Batch 300, Loss: 0.3423579519987106, Accuracy: 83.22395833333334%\n",
            "Epoch 1, Batch 400, Loss: 0.3342956382036209, Accuracy: 84.890625%\n",
            "Epoch 1, Batch 500, Loss: 0.3030623526126146, Accuracy: 86.1375%\n",
            "Epoch 1, Batch 600, Loss: 0.27388244539499285, Accuracy: 87.06510416666666%\n",
            "Epoch 1, Batch 700, Loss: 0.2576105745881796, Accuracy: 87.8125%\n",
            "Epoch 1, Batch 800, Loss: 0.22100332587957383, Accuracy: 88.490234375%\n",
            "Epoch 1, Batch 900, Loss: 0.21839447356760502, Accuracy: 89.04340277777779%\n",
            "Epoch 2, Batch 100, Loss: 0.19915669806301595, Accuracy: 93.5%\n",
            "Epoch 2, Batch 200, Loss: 0.16938122985884546, Accuracy: 94.171875%\n",
            "Epoch 2, Batch 300, Loss: 0.17787965100258588, Accuracy: 94.16666666666667%\n",
            "Epoch 2, Batch 400, Loss: 0.16266564102843403, Accuracy: 94.35546875%\n",
            "Epoch 2, Batch 500, Loss: 0.17242388010025025, Accuracy: 94.41874999999999%\n",
            "Epoch 2, Batch 600, Loss: 0.15530783446505667, Accuracy: 94.55989583333333%\n",
            "Epoch 2, Batch 700, Loss: 0.15209497483447193, Accuracy: 94.66294642857143%\n",
            "Epoch 2, Batch 800, Loss: 0.17069720581173897, Accuracy: 94.67578125%\n",
            "Epoch 2, Batch 900, Loss: 0.14740430152043701, Accuracy: 94.75%\n",
            "Epoch 3, Batch 100, Loss: 0.13536652106791736, Accuracy: 95.953125%\n",
            "Epoch 3, Batch 200, Loss: 0.11506842274218798, Accuracy: 96.15625%\n",
            "Epoch 3, Batch 300, Loss: 0.11973879441618919, Accuracy: 96.13020833333333%\n",
            "Epoch 3, Batch 400, Loss: 0.13494793543592096, Accuracy: 96.02734375%\n",
            "Epoch 3, Batch 500, Loss: 0.11644333654083311, Accuracy: 96.11562500000001%\n",
            "Epoch 3, Batch 600, Loss: 0.1207506231404841, Accuracy: 96.09635416666666%\n",
            "Epoch 3, Batch 700, Loss: 0.1269814509525895, Accuracy: 96.10044642857143%\n",
            "Epoch 3, Batch 800, Loss: 0.10905565636232495, Accuracy: 96.162109375%\n",
            "Epoch 3, Batch 900, Loss: 0.11260204664431513, Accuracy: 96.171875%\n",
            "Epoch 4, Batch 100, Loss: 0.09991022584028542, Accuracy: 96.765625%\n",
            "Epoch 4, Batch 200, Loss: 0.08974828777834773, Accuracy: 96.984375%\n",
            "Epoch 4, Batch 300, Loss: 0.0874405140336603, Accuracy: 97.015625%\n",
            "Epoch 4, Batch 400, Loss: 0.104078354164958, Accuracy: 96.9765625%\n",
            "Epoch 4, Batch 500, Loss: 0.08227665482088924, Accuracy: 97.05%\n",
            "Epoch 4, Batch 600, Loss: 0.09698684462346137, Accuracy: 97.02083333333333%\n",
            "Epoch 4, Batch 700, Loss: 0.09147490432485939, Accuracy: 97.06026785714286%\n",
            "Epoch 4, Batch 800, Loss: 0.10070452219806611, Accuracy: 97.056640625%\n",
            "Epoch 4, Batch 900, Loss: 0.09564965395256878, Accuracy: 97.03125%\n",
            "Epoch 5, Batch 100, Loss: 0.08563238502945751, Accuracy: 97.328125%\n",
            "Epoch 5, Batch 200, Loss: 0.07613470412790775, Accuracy: 97.5703125%\n",
            "Epoch 5, Batch 300, Loss: 0.07777910666540265, Accuracy: 97.55729166666667%\n",
            "Epoch 5, Batch 400, Loss: 0.07932798916473985, Accuracy: 97.5%\n",
            "Epoch 5, Batch 500, Loss: 0.07628672978840768, Accuracy: 97.50937499999999%\n",
            "Epoch 5, Batch 600, Loss: 0.08393402553163469, Accuracy: 97.48177083333334%\n",
            "Epoch 5, Batch 700, Loss: 0.06551040150225163, Accuracy: 97.53348214285714%\n",
            "Epoch 5, Batch 800, Loss: 0.07716094374656678, Accuracy: 97.5390625%\n",
            "Epoch 5, Batch 900, Loss: 0.09354129311162979, Accuracy: 97.49305555555556%\n",
            "Finished Training\n",
            "Accuracy on test set: 0.9614%\n"
          ]
        },
        {
          "output_type": "display_data",
          "data": {
            "text/plain": [
              "<Figure size 640x480 with 1 Axes>"
            ],
            "image/png": "[encoded data removed]"
          },
          "metadata": {}
        },
        {
          "output_type": "display_data",
          "data": {
            "text/plain": [
              "<Figure size 640x480 with 1 Axes>"
            ],
            "image/png": "[encoded data removed]"
          },
          "metadata": {}
        },
        {
          "output_type": "display_data",
          "data": {
            "text/plain": [
              "<Figure size 640x480 with 1 Axes>"
            ],
            "image/png": "[encoded data removed]"
          },
          "metadata": {}
        },
        {
          "output_type": "display_data",
          "data": {
            "text/plain": [
              "<Figure size 640x480 with 1 Axes>"
            ],
            "image/png": "[encoded data removed]"
          },
          "metadata": {}
        },
        {
          "output_type": "display_data",
          "data": {
            "text/plain": [
              "<Figure size 640x480 with 1 Axes>"
            ],
            "image/png": "[encoded data removed]"
          },
          "metadata": {}
        },
        {
          "output_type": "display_data",
          "data": {
            "text/plain": [
              "<Figure size 640x480 with 1 Axes>"
            ],
            "image/png": "[encoded data removed]"
          },
          "metadata": {}
        }
      ]
    },
    {
      "cell_type": "markdown",
      "source": [
        "- There was a slight improvement in accuracy in both the train and test data when the number of neurons was increased to 256. This improvement was seen in both train and test data.\n",
        "\n",
        "- There has also been a decrease in loss"
      ],
      "metadata": {
        "id": "2k3DQPsAqdn8"
      }
    },
    {
      "cell_type": "markdown",
      "source": [
        "## Experiment 2\n",
        "\n",
        "\n",
        "\n"
      ],
      "metadata": {
        "id": "dxvPwm-45--1"
      }
    },
    {
      "cell_type": "code",
      "source": [
        "#Define the neural network architecture\n",
        "class MLP(nn.Module):\n",
        "    def __init__(self):\n",
        "        super(MLP, self).__init__()\n",
        "        self.fc1 = nn.Linear(28 * 28, 256) # Changed dense layers to 256\n",
        "        self.dropout1 = nn.Dropout(0.5) # Adding Dropout of 0.5\n",
        "        self.fc2 = nn.Linear(256, 64)\n",
        "        self.dropout1 = nn.Dropout(0.5)\n",
        "        self.fc3 = nn.Linear(64, 10)\n",
        "\n",
        "    def forward(self, x):\n",
        "        x = x.view(-1, 28 * 28)\n",
        "        x = self.dropout1(x)\n",
        "        x = torch.relu(self.fc1(x))\n",
        "        x = self.dropout1(x)\n",
        "        x = torch.relu(self.fc2(x))\n",
        "        x = self.fc3(x)\n",
        "        return x\n",
        "\n",
        "# Initialize the neural network\n",
        "model = MLP()\n",
        "# Define the loss function and optimizer\n",
        "criterion = nn.CrossEntropyLoss()\n",
        "optimizer = optim.Adam(model.parameters(), lr=0.001)\n",
        "\n",
        "# Train the neural network\n",
        "num_epochs = 5\n",
        "for epoch in range(num_epochs):\n",
        "\n",
        "    model.train()\n",
        "    running_loss = 0.0\n",
        "    correct = 0\n",
        "    total = 0\n",
        "    for i, data in enumerate(train_loader, 0):\n",
        "        inputs, labels = data\n",
        "        optimizer.zero_grad()\n",
        "        outputs = model(inputs)\n",
        "        loss = criterion(outputs, labels)\n",
        "        loss.backward()\n",
        "        optimizer.step()\n",
        "        _, predicted = torch.max(outputs.data, 1)\n",
        "        running_loss += loss.item()\n",
        "        total += labels.size(0)\n",
        "\n",
        "        correct += (predicted == labels).sum().item()\n",
        "\n",
        "        if i % 100 == 99:  # print every 100 mini-batches\n",
        "            print(f'Epoch {epoch + 1}, Batch {i + 1}, Loss: {running_loss / 100}, Accuracy: {(correct / total) * 100}%')\n",
        "            running_loss = 0.0\n",
        "            #correct = 0\n",
        "            #total = 0\n",
        "\n",
        "print('Finished Training')\n",
        "\n",
        "# Evaluate the model\n",
        "model.eval()\n",
        "correct = 0\n",
        "total = 0\n",
        "with torch.no_grad():\n",
        "    for data in test_loader:\n",
        "        images, labels = data\n",
        "        outputs = model(images)\n",
        "        _, predicted = torch.max(outputs.data, 1)\n",
        "        total += labels.size(0)\n",
        "        correct += (predicted == labels).sum().item()\n",
        "\n",
        "print(f'Accuracy on test set: { correct / total}%')\n",
        "\n",
        "# Evaluate the model and store predictions\n",
        "model.eval()\n",
        "predictions = []\n",
        "correct = 0\n",
        "total = 0\n",
        "with torch.no_grad():\n",
        "    for data in test_loader:\n",
        "        images, labels = data\n",
        "        outputs = model(images)\n",
        "        _, predicted = torch.max(outputs.data, 1)\n",
        "        predictions.extend(predicted.numpy())  # Store predictions\n",
        "        total += labels.size(0)\n",
        "        correct += (predicted == labels).sum().item()\n",
        "\n",
        "# Get one test image and its label\n",
        "image, label = images[1], labels[1]\n",
        "\n",
        "# Reshape the image tensor to a 28x28 shape\n",
        "image = image.view(28, 28)\n",
        "\n",
        "# Convert the image tensor to a numpy array for visualization\n",
        "image_numpy = image.numpy()\n",
        "\n",
        "# Show the image\n",
        "plt.imshow(image_numpy, cmap='gray')\n",
        "plt.title(f'Predicted Label: {predictions[1]}, Actual Label: {label.item()}')\n",
        "plt.axis('off')\n",
        "plt.show()\n",
        "\n",
        "# Get the first 5 images from the test set.  # modified Code and predicted\n",
        "images, labels = next(iter(test_loader))\n",
        "outputs = model(images)\n",
        "_, predicted = torch.max(outputs, 1)\n",
        "\n",
        "# Convert to numpy arrays\n",
        "images = images.numpy()\n",
        "labels = labels.numpy()\n",
        "predicted = predicted.numpy()\n",
        "\n",
        "# Plot the images along with their actual and predicted labels\n",
        "for i in range(5):\n",
        "    image = images[i].squeeze()\n",
        "    actual_label = labels[i]\n",
        "    predicted_label = predicted[i]\n",
        "\n",
        "    plt.imshow(image, cmap='gray')\n",
        "    plt.title(f'Actual: {actual_label}, Predicted: {predicted_label}')\n",
        "    plt.axis('off')\n",
        "    plt.show()"
      ],
      "metadata": {
        "id": "4JVgQaA6qXn-",
        "colab": {
          "base_uri": "https://localhost:8080/",
          "height": 1000
        },
        "outputId": "fa1ab42b-83fd-4ce3-c66a-e1033f5a7370"
      },
      "execution_count": 15,
      "outputs": [
        {
          "output_type": "stream",
          "name": "stdout",
          "text": [
            "Epoch 1, Batch 100, Loss: 1.2803309828042984, Accuracy: 56.796875%\n",
            "Epoch 1, Batch 200, Loss: 0.6989705845713615, Accuracy: 67.0078125%\n",
            "Epoch 1, Batch 300, Loss: 0.6095376363396645, Accuracy: 71.21875%\n",
            "Epoch 1, Batch 400, Loss: 0.5578353050351142, Accuracy: 73.9375%\n",
            "Epoch 1, Batch 500, Loss: 0.5504572346806527, Accuracy: 75.546875%\n",
            "Epoch 1, Batch 600, Loss: 0.5353871883451938, Accuracy: 76.7109375%\n",
            "Epoch 1, Batch 700, Loss: 0.4857624024152756, Accuracy: 77.79241071428571%\n",
            "Epoch 1, Batch 800, Loss: 0.48564998775720597, Accuracy: 78.59765625%\n",
            "Epoch 1, Batch 900, Loss: 0.47453646689653395, Accuracy: 79.28472222222223%\n",
            "Epoch 2, Batch 100, Loss: 0.4504400670528412, Accuracy: 85.609375%\n",
            "Epoch 2, Batch 200, Loss: 0.4445165528357029, Accuracy: 85.65625%\n",
            "Epoch 2, Batch 300, Loss: 0.4290451364219189, Accuracy: 85.83854166666667%\n",
            "Epoch 2, Batch 400, Loss: 0.42588591322302816, Accuracy: 85.90625%\n",
            "Epoch 2, Batch 500, Loss: 0.43502714425325395, Accuracy: 85.91250000000001%\n",
            "Epoch 2, Batch 600, Loss: 0.4232894493639469, Accuracy: 85.9609375%\n",
            "Epoch 2, Batch 700, Loss: 0.40655043080449105, Accuracy: 86.17410714285715%\n",
            "Epoch 2, Batch 800, Loss: 0.38764387130737304, Accuracy: 86.36328125%\n",
            "Epoch 2, Batch 900, Loss: 0.39054096236824987, Accuracy: 86.47569444444444%\n",
            "Epoch 3, Batch 100, Loss: 0.39159730553627015, Accuracy: 87.4375%\n",
            "Epoch 3, Batch 200, Loss: 0.39085704445838926, Accuracy: 87.4765625%\n",
            "Epoch 3, Batch 300, Loss: 0.3767244511842728, Accuracy: 87.68229166666667%\n",
            "Epoch 3, Batch 400, Loss: 0.37611098900437356, Accuracy: 87.6875%\n",
            "Epoch 3, Batch 500, Loss: 0.366497864574194, Accuracy: 87.775%\n",
            "Epoch 3, Batch 600, Loss: 0.3607147228717804, Accuracy: 87.84375%\n",
            "Epoch 3, Batch 700, Loss: 0.36469430461525915, Accuracy: 87.89508928571429%\n",
            "Epoch 3, Batch 800, Loss: 0.3689198097586632, Accuracy: 87.9921875%\n",
            "Epoch 3, Batch 900, Loss: 0.3806772592663765, Accuracy: 87.99652777777777%\n",
            "Epoch 4, Batch 100, Loss: 0.33245395570993425, Accuracy: 89.453125%\n",
            "Epoch 4, Batch 200, Loss: 0.34876343548297883, Accuracy: 89.234375%\n",
            "Epoch 4, Batch 300, Loss: 0.3553271260857582, Accuracy: 89.03645833333333%\n",
            "Epoch 4, Batch 400, Loss: 0.34619497135281563, Accuracy: 88.95703125%\n",
            "Epoch 4, Batch 500, Loss: 0.35654275193810464, Accuracy: 88.91250000000001%\n",
            "Epoch 4, Batch 600, Loss: 0.3558505177497864, Accuracy: 88.91927083333333%\n",
            "Epoch 4, Batch 700, Loss: 0.32735931791365147, Accuracy: 88.98660714285714%\n",
            "Epoch 4, Batch 800, Loss: 0.3208945812284946, Accuracy: 89.10546875%\n",
            "Epoch 4, Batch 900, Loss: 0.3390320405364037, Accuracy: 89.08854166666667%\n",
            "Epoch 5, Batch 100, Loss: 0.3302280333638191, Accuracy: 89.65625%\n",
            "Epoch 5, Batch 200, Loss: 0.33922924801707266, Accuracy: 89.421875%\n",
            "Epoch 5, Batch 300, Loss: 0.3351327802240849, Accuracy: 89.35416666666667%\n",
            "Epoch 5, Batch 400, Loss: 0.322932795137167, Accuracy: 89.55078125%\n",
            "Epoch 5, Batch 500, Loss: 0.3052963477373123, Accuracy: 89.71875%\n",
            "Epoch 5, Batch 600, Loss: 0.33006684854626656, Accuracy: 89.76302083333333%\n",
            "Epoch 5, Batch 700, Loss: 0.32697499603033064, Accuracy: 89.77901785714286%\n",
            "Epoch 5, Batch 800, Loss: 0.33178636729717254, Accuracy: 89.783203125%\n",
            "Epoch 5, Batch 900, Loss: 0.3348075571656227, Accuracy: 89.69965277777779%\n",
            "Finished Training\n",
            "Accuracy on test set: 0.9576%\n"
          ]
        },
        {
          "output_type": "display_data",
          "data": {
            "text/plain": [
              "<Figure size 640x480 with 1 Axes>"
            ],
            "image/png": "[encoded data removed]"
          },
          "metadata": {}
        },
        {
          "output_type": "display_data",
          "data": {
            "text/plain": [
              "<Figure size 640x480 with 1 Axes>"
            ],
            "image/png": "[encoded data removed]"
          },
          "metadata": {}
        },
        {
          "output_type": "display_data",
          "data": {
            "text/plain": [
              "<Figure size 640x480 with 1 Axes>"
            ],
            "image/png": "[encoded data removed]"
          },
          "metadata": {}
        },
        {
          "output_type": "display_data",
          "data": {
            "text/plain": [
              "<Figure size 640x480 with 1 Axes>"
            ],
            "image/png": "[encoded data removed]"
          },
          "metadata": {}
        },
        {
          "output_type": "display_data",
          "data": {
            "text/plain": [
              "<Figure size 640x480 with 1 Axes>"
            ],
            "image/png": "[encoded data removed]"
          },
          "metadata": {}
        },
        {
          "output_type": "display_data",
          "data": {
            "text/plain": [
              "<Figure size 640x480 with 1 Axes>"
            ],
            "image/png": "[encoded data removed]"
          },
          "metadata": {}
        }
      ]
    },
    {
      "cell_type": "markdown",
      "source": [
        "- In both train and test modes, a slight decrease in accuracy was observed when the dropout was added between the layers. One potential reason for the decrease in accuracy could be the regularization effect of dropout. Dropout randomly deactivates a certain percentage of neurons during training, which can lead to the model being less reliant on specific features and more robust to noise in the data. However, this regularization effect might also cause the model to lose some important information, resulting in a slight decrease in accuracy.\n",
        "\n",
        "- In addition to this, it has also been observed that test accuracy is better than train accuracy."
      ],
      "metadata": {
        "id": "UcPV8JebsQaM"
      }
    },
    {
      "cell_type": "markdown",
      "source": [
        "## Experiment 3"
      ],
      "metadata": {
        "id": "DxW5FstaDNbW"
      }
    },
    {
      "cell_type": "code",
      "source": [
        "#Define the neural network architecture\n",
        "class MLP(nn.Module):\n",
        "    def __init__(self):\n",
        "        super(MLP, self).__init__()\n",
        "        self.fc1 = nn.Linear(28 * 28, 256) # Changed dense layers to 256\n",
        "        self.dropout1 = nn.Dropout(0.5) # Adding Dropout of 0.5\n",
        "        self.fc2 = nn.Linear(256, 64)\n",
        "        self.dropout2 = nn.Dropout(0.5)\n",
        "        self.fc3 = nn.Linear(64, 10)\n",
        "\n",
        "    def forward(self, x):\n",
        "        x = x.view(-1, 28 * 28)\n",
        "        x = self.dropout1(torch.relu(self.fc1(x)))\n",
        "        x = self.dropout2(torch.sigmoid(self.fc2(x)))\n",
        "        x = self.fc3(x)\n",
        "        return x\n",
        "\n",
        "# Initialize the neural network\n",
        "model = MLP()\n",
        "\n",
        "# Define the loss function and optimizer\n",
        "criterion = nn.CrossEntropyLoss()\n",
        "#optimizer = optim.Adam(model.parameters(), lr=0.01)\n",
        "optimizer = optim.SGD(model.parameters(), lr=0.01, momentum=0.9)  # Changed optimizer of SGD and added momentum\n",
        "\n",
        "# Train the neural network\n",
        "num_epochs = 10    # Increased epochs to 10\n",
        "for epoch in range(num_epochs):\n",
        "    model.train()\n",
        "    running_loss = 0.0\n",
        "    correct = 0\n",
        "    total = 0\n",
        "    for i, data in enumerate(train_loader, 0):\n",
        "        inputs, labels = data\n",
        "        optimizer.zero_grad()\n",
        "        outputs = model(inputs)\n",
        "        loss = criterion(outputs, labels)\n",
        "        loss.backward()\n",
        "        optimizer.step()\n",
        "        _, predicted = torch.max(outputs.data, 1)\n",
        "        running_loss += loss.item()\n",
        "        total += labels.size(0)\n",
        "\n",
        "        correct += (predicted == labels).sum().item()\n",
        "\n",
        "        if i % 100 == 99:  # print every 100 mini-batches\n",
        "            print(f'Epoch {epoch + 1}, Batch {i + 1}, Loss: {running_loss / 100}, Accuracy: {(correct / total) * 100}%')\n",
        "            running_loss = 0.0\n",
        "            #correct = 0\n",
        "            #total = 0\n",
        "\n",
        "print('Finished Training')\n",
        "\n",
        "# Evaluate the model\n",
        "model.eval()\n",
        "correct = 0\n",
        "total = 0\n",
        "with torch.no_grad():\n",
        "    for data in test_loader:\n",
        "        images, labels = data\n",
        "        outputs = model(images)\n",
        "        _, predicted = torch.max(outputs.data, 1)\n",
        "        total += labels.size(0)\n",
        "        correct += (predicted == labels).sum().item()\n",
        "\n",
        "print(f'Accuracy on test set: { correct / total}%')\n",
        "\n",
        "# Evaluate the model and store predictions\n",
        "model.eval()\n",
        "predictions = []\n",
        "correct = 0\n",
        "total = 0\n",
        "with torch.no_grad():\n",
        "    for data in test_loader:\n",
        "        images, labels = data\n",
        "        outputs = model(images)\n",
        "        _, predicted = torch.max(outputs.data, 1)\n",
        "        predictions.extend(predicted.numpy())  # Store predictions\n",
        "        total += labels.size(0)\n",
        "        correct += (predicted == labels).sum().item()\n",
        "\n",
        "# Get one test image and its label\n",
        "image, label = images[1], labels[1]\n",
        "\n",
        "# Reshape the image tensor to a 28x28 shape\n",
        "image = image.view(28, 28)\n",
        "\n",
        "# Convert the image tensor to a numpy array for visualization\n",
        "image_numpy = image.numpy()\n",
        "\n",
        "# Show the image\n",
        "plt.imshow(image_numpy, cmap='gray')\n",
        "plt.title(f'Predicted Label: {predictions[1]}, Actual Label: {label.item()}')\n",
        "plt.axis('off')\n",
        "plt.show()\n",
        "\n",
        "# Get the first 5 images from the test set.  # modified Code and predicted\n",
        "images, labels = next(iter(test_loader))\n",
        "outputs = model(images)\n",
        "_, predicted = torch.max(outputs, 1)\n",
        "\n",
        "# Convert to numpy arrays\n",
        "images = images.numpy()\n",
        "labels = labels.numpy()\n",
        "predicted = predicted.numpy()\n",
        "\n",
        "# Plot the images along with their actual and predicted labels\n",
        "for i in range(5):\n",
        "    image = images[i].squeeze()\n",
        "    actual_label = labels[i]\n",
        "    predicted_label = predicted[i]\n",
        "\n",
        "    plt.imshow(image, cmap='gray')\n",
        "    plt.title(f'Actual: {actual_label}, Predicted: {predicted_label}')\n",
        "    plt.axis('off')\n",
        "    plt.show()"
      ],
      "metadata": {
        "colab": {
          "base_uri": "https://localhost:8080/",
          "height": 1000
        },
        "id": "wic-P-SQ6tPZ",
        "outputId": "5e56145f-6824-4167-e65f-331be46bb81d"
      },
      "execution_count": 25,
      "outputs": [
        {
          "output_type": "stream",
          "name": "stdout",
          "text": [
            "Epoch 1, Batch 100, Loss: 2.2491707229614257, Accuracy: 18.0%\n",
            "Epoch 1, Batch 200, Loss: 1.7101383090019227, Accuracy: 30.703124999999996%\n",
            "Epoch 1, Batch 300, Loss: 1.1991401773691177, Accuracy: 40.739583333333336%\n",
            "Epoch 1, Batch 400, Loss: 0.9817709988355636, Accuracy: 47.77734375%\n",
            "Epoch 1, Batch 500, Loss: 0.7976059752702713, Accuracy: 53.403124999999996%\n",
            "Epoch 1, Batch 600, Loss: 0.7238050413131714, Accuracy: 57.45572916666667%\n",
            "Epoch 1, Batch 700, Loss: 0.6378152370452881, Accuracy: 60.89285714285714%\n",
            "Epoch 1, Batch 800, Loss: 0.6065379667282105, Accuracy: 63.50781250000001%\n",
            "Epoch 1, Batch 900, Loss: 0.5745671060681343, Accuracy: 65.63368055555556%\n",
            "Epoch 2, Batch 100, Loss: 0.5225368362665176, Accuracy: 85.0%\n",
            "Epoch 2, Batch 200, Loss: 0.5235505259037018, Accuracy: 84.8828125%\n",
            "Epoch 2, Batch 300, Loss: 0.4914131364226341, Accuracy: 84.97916666666666%\n",
            "Epoch 2, Batch 400, Loss: 0.48832022950053217, Accuracy: 85.33203125%\n",
            "Epoch 2, Batch 500, Loss: 0.4793042296171188, Accuracy: 85.534375%\n",
            "Epoch 2, Batch 600, Loss: 0.4347668360173702, Accuracy: 85.8046875%\n",
            "Epoch 2, Batch 700, Loss: 0.4399506868422031, Accuracy: 86.015625%\n",
            "Epoch 2, Batch 800, Loss: 0.4263412308692932, Accuracy: 86.205078125%\n",
            "Epoch 2, Batch 900, Loss: 0.4317823454737663, Accuracy: 86.36458333333333%\n",
            "Epoch 3, Batch 100, Loss: 0.3963860864937305, Accuracy: 88.953125%\n",
            "Epoch 3, Batch 200, Loss: 0.39215258970856665, Accuracy: 88.8359375%\n",
            "Epoch 3, Batch 300, Loss: 0.38627267867326737, Accuracy: 88.76041666666666%\n",
            "Epoch 3, Batch 400, Loss: 0.3654183092713356, Accuracy: 88.91015625%\n",
            "Epoch 3, Batch 500, Loss: 0.36328597337007523, Accuracy: 89.096875%\n",
            "Epoch 3, Batch 600, Loss: 0.36583384811878206, Accuracy: 89.27864583333334%\n",
            "Epoch 3, Batch 700, Loss: 0.34894024915993216, Accuracy: 89.38392857142857%\n",
            "Epoch 3, Batch 800, Loss: 0.3663470585644245, Accuracy: 89.4609375%\n",
            "Epoch 3, Batch 900, Loss: 0.32734531596302985, Accuracy: 89.57638888888889%\n",
            "Epoch 4, Batch 100, Loss: 0.34771270632743834, Accuracy: 90.234375%\n",
            "Epoch 4, Batch 200, Loss: 0.32743228554725645, Accuracy: 90.578125%\n",
            "Epoch 4, Batch 300, Loss: 0.321792201846838, Accuracy: 90.65104166666667%\n",
            "Epoch 4, Batch 400, Loss: 0.3306554752588272, Accuracy: 90.671875%\n",
            "Epoch 4, Batch 500, Loss: 0.30570888832211496, Accuracy: 90.82187499999999%\n",
            "Epoch 4, Batch 600, Loss: 0.32246992871165275, Accuracy: 90.84895833333333%\n",
            "Epoch 4, Batch 700, Loss: 0.32730048678815366, Accuracy: 90.81919642857143%\n",
            "Epoch 4, Batch 800, Loss: 0.3133769800513983, Accuracy: 90.859375%\n",
            "Epoch 4, Batch 900, Loss: 0.30324890829622747, Accuracy: 90.93402777777779%\n",
            "Epoch 5, Batch 100, Loss: 0.3032466166466474, Accuracy: 91.484375%\n",
            "Epoch 5, Batch 200, Loss: 0.2953379641473293, Accuracy: 91.5390625%\n",
            "Epoch 5, Batch 300, Loss: 0.2858329483866692, Accuracy: 91.63020833333333%\n",
            "Epoch 5, Batch 400, Loss: 0.28622794717550276, Accuracy: 91.59765625%\n",
            "Epoch 5, Batch 500, Loss: 0.2867950292676687, Accuracy: 91.6375%\n",
            "Epoch 5, Batch 600, Loss: 0.2791797435283661, Accuracy: 91.73697916666667%\n",
            "Epoch 5, Batch 700, Loss: 0.2778458818793297, Accuracy: 91.81026785714286%\n",
            "Epoch 5, Batch 800, Loss: 0.28937083601951596, Accuracy: 91.802734375%\n",
            "Epoch 5, Batch 900, Loss: 0.25267190851271154, Accuracy: 91.96875%\n",
            "Epoch 6, Batch 100, Loss: 0.25829066619277, Accuracy: 92.6875%\n",
            "Epoch 6, Batch 200, Loss: 0.27036032743752003, Accuracy: 92.65625%\n",
            "Epoch 6, Batch 300, Loss: 0.26485326021909716, Accuracy: 92.56770833333333%\n",
            "Epoch 6, Batch 400, Loss: 0.2607232214510441, Accuracy: 92.6171875%\n",
            "Epoch 6, Batch 500, Loss: 0.2565325018391013, Accuracy: 92.6125%\n",
            "Epoch 6, Batch 600, Loss: 0.2768157386034727, Accuracy: 92.57552083333334%\n",
            "Epoch 6, Batch 700, Loss: 0.25238463424146174, Accuracy: 92.60491071428572%\n",
            "Epoch 6, Batch 800, Loss: 0.262550797611475, Accuracy: 92.63671875%\n",
            "Epoch 6, Batch 900, Loss: 0.270682968981564, Accuracy: 92.59548611111111%\n",
            "Epoch 7, Batch 100, Loss: 0.249296053647995, Accuracy: 92.890625%\n",
            "Epoch 7, Batch 200, Loss: 0.2536961522698402, Accuracy: 92.765625%\n",
            "Epoch 7, Batch 300, Loss: 0.24373072683811187, Accuracy: 92.94791666666666%\n",
            "Epoch 7, Batch 400, Loss: 0.25674039058387277, Accuracy: 92.83984375%\n",
            "Epoch 7, Batch 500, Loss: 0.23656906120479107, Accuracy: 92.975%\n",
            "Epoch 7, Batch 600, Loss: 0.22155499771237375, Accuracy: 93.10416666666667%\n",
            "Epoch 7, Batch 700, Loss: 0.2444315341860056, Accuracy: 93.09598214285715%\n",
            "Epoch 7, Batch 800, Loss: 0.2468368901312351, Accuracy: 93.033203125%\n",
            "Epoch 7, Batch 900, Loss: 0.24896286949515342, Accuracy: 93.00173611111111%\n",
            "Epoch 8, Batch 100, Loss: 0.22405556514859198, Accuracy: 93.625%\n",
            "Epoch 8, Batch 200, Loss: 0.23299673870205878, Accuracy: 93.5390625%\n",
            "Epoch 8, Batch 300, Loss: 0.24091871179640292, Accuracy: 93.44270833333333%\n",
            "Epoch 8, Batch 400, Loss: 0.22654401108622552, Accuracy: 93.4921875%\n",
            "Epoch 8, Batch 500, Loss: 0.2528768564760685, Accuracy: 93.390625%\n",
            "Epoch 8, Batch 600, Loss: 0.21634610552340747, Accuracy: 93.50260416666667%\n",
            "Epoch 8, Batch 700, Loss: 0.2343890602514148, Accuracy: 93.51785714285714%\n",
            "Epoch 8, Batch 800, Loss: 0.24040578171610832, Accuracy: 93.490234375%\n",
            "Epoch 8, Batch 900, Loss: 0.2165852824598551, Accuracy: 93.53819444444444%\n",
            "Epoch 9, Batch 100, Loss: 0.22507649175822736, Accuracy: 93.828125%\n",
            "Epoch 9, Batch 200, Loss: 0.2169252987205982, Accuracy: 93.7421875%\n",
            "Epoch 9, Batch 300, Loss: 0.2235913510620594, Accuracy: 93.84895833333333%\n",
            "Epoch 9, Batch 400, Loss: 0.2165281616896391, Accuracy: 93.82421875%\n",
            "Epoch 9, Batch 500, Loss: 0.21220469165593386, Accuracy: 93.840625%\n",
            "Epoch 9, Batch 600, Loss: 0.2267552813887596, Accuracy: 93.79427083333334%\n",
            "Epoch 9, Batch 700, Loss: 0.2138474039360881, Accuracy: 93.82589285714286%\n",
            "Epoch 9, Batch 800, Loss: 0.22771261014044286, Accuracy: 93.8203125%\n",
            "Epoch 9, Batch 900, Loss: 0.22782868660986424, Accuracy: 93.78125%\n",
            "Epoch 10, Batch 100, Loss: 0.19643066883087157, Accuracy: 94.578125%\n",
            "Epoch 10, Batch 200, Loss: 0.20545991070568562, Accuracy: 94.28125%\n",
            "Epoch 10, Batch 300, Loss: 0.19934008229523897, Accuracy: 94.25%\n",
            "Epoch 10, Batch 400, Loss: 0.22377925977110863, Accuracy: 94.09765625%\n",
            "Epoch 10, Batch 500, Loss: 0.21913680098950863, Accuracy: 94.00625000000001%\n",
            "Epoch 10, Batch 600, Loss: 0.2144548123329878, Accuracy: 94.04166666666667%\n",
            "Epoch 10, Batch 700, Loss: 0.18432953990995884, Accuracy: 94.15401785714286%\n",
            "Epoch 10, Batch 800, Loss: 0.20548663854599, Accuracy: 94.173828125%\n",
            "Epoch 10, Batch 900, Loss: 0.21012913152575494, Accuracy: 94.171875%\n",
            "Finished Training\n",
            "Accuracy on test set: 0.9623166666666667%\n"
          ]
        },
        {
          "output_type": "display_data",
          "data": {
            "text/plain": [
              "<Figure size 640x480 with 1 Axes>"
            ],
            "image/png": "[encoded data removed]"
          },
          "metadata": {}
        },
        {
          "output_type": "display_data",
          "data": {
            "text/plain": [
              "<Figure size 640x480 with 1 Axes>"
            ],
            "image/png": "[encoded data removed]"
          },
          "metadata": {}
        },
        {
          "output_type": "display_data",
          "data": {
            "text/plain": [
              "<Figure size 640x480 with 1 Axes>"
            ],
            "image/png": "[encoded data removed]"
          },
          "metadata": {}
        },
        {
          "output_type": "display_data",
          "data": {
            "text/plain": [
              "<Figure size 640x480 with 1 Axes>"
            ],
            "image/png": "[encoded data removed]"
          },
          "metadata": {}
        },
        {
          "output_type": "display_data",
          "data": {
            "text/plain": [
              "<Figure size 640x480 with 1 Axes>"
            ],
            "image/png": "[encoded data removed]"
          },
          "metadata": {}
        },
        {
          "output_type": "display_data",
          "data": {
            "text/plain": [
              "<Figure size 640x480 with 1 Axes>"
            ],
            "image/png": "[encoded data removed]"
          },
          "metadata": {}
        }
      ]
    },
    {
      "cell_type": "markdown",
      "source": [
        "- The accuracy of the model has been decreased by 91% when compared to the accuracy of the model with 5 epochs of training method when the activation function has been changed to sigmoid, momentum was added to SGD, and the optimizer was added to SGD.\n",
        "\n",
        "\n",
        "- However, the accuracy of the test wasn't affected much.\n",
        "\n",
        "\n",
        "- There was an increase in the accuracy to 94% after increasing the number of epochs to 10 and a similar increase in the test accuracy to 96% after increasing the number of epochs to 10."
      ],
      "metadata": {
        "id": "5HW-atETt20R"
      }
    },
    {
      "cell_type": "markdown",
      "source": [
        "# Hypothese\n",
        "\n",
        "The learning rate of the relu activation function is 0.001 for this dataset and it is recommended that 256 neurons are used with a relu activation function. Using 256 neurons with a relu activation function allows for a more complex and flexible representation of the dataset. This increased capacity can enable the neural network to learn and capture more intricate patterns and relationships within the data, potentially leading to improved model performance and accuracy. It can be seen from the experiment that the combination of these produces the best results.\n"
      ],
      "metadata": {
        "id": "eZj6196iRYxX"
      }
    },
    {
      "cell_type": "code",
      "source": [],
      "metadata": {
        "id": "9DIwKsX7yAc6"
      },
      "execution_count": null,
      "outputs": []
    }
  ]
}